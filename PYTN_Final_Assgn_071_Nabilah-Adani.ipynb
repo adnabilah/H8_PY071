{
 "cells": [
  {
   "cell_type": "markdown",
   "id": "18279264-f360-4927-9fa7-1514eb2cb032",
   "metadata": {},
   "source": [
    "- Submitter: Nabilah Adani\n",
    "- Date: May 1st, 2022\n",
    "\n",
    "---"
   ]
  },
  {
   "cell_type": "markdown",
   "id": "dcc3e21e-6743-4766-b51c-22cc5c25b09c",
   "metadata": {},
   "source": [
    "# I. Introduction"
   ]
  },
  {
   "cell_type": "markdown",
   "id": "df30b7ac-1482-431a-aaba-4e70936eab84",
   "metadata": {},
   "source": [
    "- In this dataset, we're creating a machine learning model about Titanic survivors with type classification from https://www.kaggle.com/c/titanic\n",
    "- The original dataset includes two separate files, which are train.csv and test.csv. However, we will use only train.csv dataset.\n",
    "- The purpose of this ML model is to look for the most better-suited algorithm for determining a passenger's survival in Titanic.\n",
    "- This dataset was chosen because it serves an introductory level dataset for new learners of machine learning algorithms."
   ]
  },
  {
   "cell_type": "markdown",
   "id": "0d8b6fed-7061-43d9-ba65-5dc0e002f6b5",
   "metadata": {},
   "source": [
    "### Project Abstract\n",
    "\n",
    "_The sinking of the Titanic is one of the most infamous shipwrecks in history._\n",
    "\n",
    "_On April 15, 1912, during her maiden voyage, the widely considered “unsinkable” RMS Titanic sank after colliding with an iceberg. Unfortunately, there weren’t enough lifeboats for everyone onboard, resulting in the death of 1502 out of 2224 passengers and crew._\n",
    "\n",
    "_While there was some element of luck involved in surviving, it seems some groups of people were more likely to survive than others._\n",
    "\n",
    "### Data Dictionary:\n",
    "\n",
    "- survival: Survival status\n",
    "- pclass: Ticket class\n",
    "- sex: Sex\n",
    "- age: Age is fractional if less than 1. If the age is estimated, is it in the form of xx.5\n",
    "- sibsp: The dataset defines family relations in this way...\n",
    "    - Sibling = brother, sister, stepbrother, stepsister\n",
    "    - Spouse = husband, wife (mistresses and fiancés were ignored)\n",
    "- arch: The dataset defines family relations in this way...\n",
    "    - Parent = mother, father\n",
    "    - Child = daughter, son, stepdaughter, stepson\n",
    "    - Some children travelled only with a nanny, therefore parch=0 for them.\n",
    "- ticket: Ticket number\n",
    "- fare: Passenger fare\n",
    "- cabin: Cabin number\n",
    "- embarked: Port of embarkation"
   ]
  },
  {
   "cell_type": "markdown",
   "id": "99379dbd-3853-4017-b253-e55997c9349a",
   "metadata": {},
   "source": [
    "# II. Importing Required Libraries"
   ]
  },
  {
   "cell_type": "code",
   "execution_count": 1,
   "id": "f55abf5f-25dc-4fa5-b6f0-9118a17c37aa",
   "metadata": {},
   "outputs": [],
   "source": [
    "# import numerical processing packages\n",
    "import numpy as np\n",
    "import pandas as pd\n",
    "\n",
    "# import visualization packages\n",
    "%matplotlib inline\n",
    "import matplotlib as mpl\n",
    "import matplotlib.pyplot as plt\n",
    "mpl.style.use(['ggplot'])\n",
    "\n",
    "# import machine learning algorithms\n",
    "from sklearn.linear_model import LogisticRegression\n",
    "from sklearn.neighbors import KNeighborsClassifier\n",
    "from sklearn.naive_bayes import GaussianNB\n",
    "from sklearn.tree import DecisionTreeClassifier\n",
    "from sklearn.ensemble import RandomForestClassifier\n",
    "from sklearn.svm import SVC\n",
    "\n",
    "# import other required packages for creating ML models\n",
    "from sklearn import metrics\n",
    "from sklearn.preprocessing import LabelEncoder\n",
    "from sklearn.model_selection import train_test_split\n",
    "from sklearn.metrics import classification_report, confusion_matrix\n",
    "\n",
    "from sklearn.preprocessing import StandardScaler # move data to the centre\n",
    "from sklearn.decomposition import PCA\n",
    "from sklearn.cluster import KMeans\n",
    "\n",
    "# import visualization packages for decision tree\n",
    "import sklearn.tree as tree\n",
    "import pydotplus\n",
    "from six import StringIO\n",
    "from IPython.display import Image\n",
    "from sklearn.tree import export_graphviz\n",
    "import graphviz"
   ]
  },
  {
   "cell_type": "markdown",
   "id": "7252f0c1-5bd4-498c-8912-3823db0a4b13",
   "metadata": {},
   "source": [
    "# III. Data Loading and Exploratory Data Analysis"
   ]
  },
  {
   "cell_type": "code",
   "execution_count": 2,
   "id": "73292719-ec1c-47aa-b428-a58a057abd2a",
   "metadata": {},
   "outputs": [
    {
     "data": {
      "text/html": [
       "<div>\n",
       "<style scoped>\n",
       "    .dataframe tbody tr th:only-of-type {\n",
       "        vertical-align: middle;\n",
       "    }\n",
       "\n",
       "    .dataframe tbody tr th {\n",
       "        vertical-align: top;\n",
       "    }\n",
       "\n",
       "    .dataframe thead th {\n",
       "        text-align: right;\n",
       "    }\n",
       "</style>\n",
       "<table border=\"1\" class=\"dataframe\">\n",
       "  <thead>\n",
       "    <tr style=\"text-align: right;\">\n",
       "      <th></th>\n",
       "      <th>PassengerId</th>\n",
       "      <th>Survived</th>\n",
       "      <th>Pclass</th>\n",
       "      <th>Name</th>\n",
       "      <th>Sex</th>\n",
       "      <th>Age</th>\n",
       "      <th>SibSp</th>\n",
       "      <th>Parch</th>\n",
       "      <th>Ticket</th>\n",
       "      <th>Fare</th>\n",
       "      <th>Cabin</th>\n",
       "      <th>Embarked</th>\n",
       "    </tr>\n",
       "  </thead>\n",
       "  <tbody>\n",
       "    <tr>\n",
       "      <th>0</th>\n",
       "      <td>1</td>\n",
       "      <td>0</td>\n",
       "      <td>3</td>\n",
       "      <td>Braund, Mr. Owen Harris</td>\n",
       "      <td>male</td>\n",
       "      <td>22.0</td>\n",
       "      <td>1</td>\n",
       "      <td>0</td>\n",
       "      <td>A/5 21171</td>\n",
       "      <td>7.2500</td>\n",
       "      <td>NaN</td>\n",
       "      <td>S</td>\n",
       "    </tr>\n",
       "    <tr>\n",
       "      <th>1</th>\n",
       "      <td>2</td>\n",
       "      <td>1</td>\n",
       "      <td>1</td>\n",
       "      <td>Cumings, Mrs. John Bradley (Florence Briggs Th...</td>\n",
       "      <td>female</td>\n",
       "      <td>38.0</td>\n",
       "      <td>1</td>\n",
       "      <td>0</td>\n",
       "      <td>PC 17599</td>\n",
       "      <td>71.2833</td>\n",
       "      <td>C85</td>\n",
       "      <td>C</td>\n",
       "    </tr>\n",
       "    <tr>\n",
       "      <th>2</th>\n",
       "      <td>3</td>\n",
       "      <td>1</td>\n",
       "      <td>3</td>\n",
       "      <td>Heikkinen, Miss. Laina</td>\n",
       "      <td>female</td>\n",
       "      <td>26.0</td>\n",
       "      <td>0</td>\n",
       "      <td>0</td>\n",
       "      <td>STON/O2. 3101282</td>\n",
       "      <td>7.9250</td>\n",
       "      <td>NaN</td>\n",
       "      <td>S</td>\n",
       "    </tr>\n",
       "    <tr>\n",
       "      <th>3</th>\n",
       "      <td>4</td>\n",
       "      <td>1</td>\n",
       "      <td>1</td>\n",
       "      <td>Futrelle, Mrs. Jacques Heath (Lily May Peel)</td>\n",
       "      <td>female</td>\n",
       "      <td>35.0</td>\n",
       "      <td>1</td>\n",
       "      <td>0</td>\n",
       "      <td>113803</td>\n",
       "      <td>53.1000</td>\n",
       "      <td>C123</td>\n",
       "      <td>S</td>\n",
       "    </tr>\n",
       "    <tr>\n",
       "      <th>4</th>\n",
       "      <td>5</td>\n",
       "      <td>0</td>\n",
       "      <td>3</td>\n",
       "      <td>Allen, Mr. William Henry</td>\n",
       "      <td>male</td>\n",
       "      <td>35.0</td>\n",
       "      <td>0</td>\n",
       "      <td>0</td>\n",
       "      <td>373450</td>\n",
       "      <td>8.0500</td>\n",
       "      <td>NaN</td>\n",
       "      <td>S</td>\n",
       "    </tr>\n",
       "    <tr>\n",
       "      <th>...</th>\n",
       "      <td>...</td>\n",
       "      <td>...</td>\n",
       "      <td>...</td>\n",
       "      <td>...</td>\n",
       "      <td>...</td>\n",
       "      <td>...</td>\n",
       "      <td>...</td>\n",
       "      <td>...</td>\n",
       "      <td>...</td>\n",
       "      <td>...</td>\n",
       "      <td>...</td>\n",
       "      <td>...</td>\n",
       "    </tr>\n",
       "    <tr>\n",
       "      <th>886</th>\n",
       "      <td>887</td>\n",
       "      <td>0</td>\n",
       "      <td>2</td>\n",
       "      <td>Montvila, Rev. Juozas</td>\n",
       "      <td>male</td>\n",
       "      <td>27.0</td>\n",
       "      <td>0</td>\n",
       "      <td>0</td>\n",
       "      <td>211536</td>\n",
       "      <td>13.0000</td>\n",
       "      <td>NaN</td>\n",
       "      <td>S</td>\n",
       "    </tr>\n",
       "    <tr>\n",
       "      <th>887</th>\n",
       "      <td>888</td>\n",
       "      <td>1</td>\n",
       "      <td>1</td>\n",
       "      <td>Graham, Miss. Margaret Edith</td>\n",
       "      <td>female</td>\n",
       "      <td>19.0</td>\n",
       "      <td>0</td>\n",
       "      <td>0</td>\n",
       "      <td>112053</td>\n",
       "      <td>30.0000</td>\n",
       "      <td>B42</td>\n",
       "      <td>S</td>\n",
       "    </tr>\n",
       "    <tr>\n",
       "      <th>888</th>\n",
       "      <td>889</td>\n",
       "      <td>0</td>\n",
       "      <td>3</td>\n",
       "      <td>Johnston, Miss. Catherine Helen \"Carrie\"</td>\n",
       "      <td>female</td>\n",
       "      <td>NaN</td>\n",
       "      <td>1</td>\n",
       "      <td>2</td>\n",
       "      <td>W./C. 6607</td>\n",
       "      <td>23.4500</td>\n",
       "      <td>NaN</td>\n",
       "      <td>S</td>\n",
       "    </tr>\n",
       "    <tr>\n",
       "      <th>889</th>\n",
       "      <td>890</td>\n",
       "      <td>1</td>\n",
       "      <td>1</td>\n",
       "      <td>Behr, Mr. Karl Howell</td>\n",
       "      <td>male</td>\n",
       "      <td>26.0</td>\n",
       "      <td>0</td>\n",
       "      <td>0</td>\n",
       "      <td>111369</td>\n",
       "      <td>30.0000</td>\n",
       "      <td>C148</td>\n",
       "      <td>C</td>\n",
       "    </tr>\n",
       "    <tr>\n",
       "      <th>890</th>\n",
       "      <td>891</td>\n",
       "      <td>0</td>\n",
       "      <td>3</td>\n",
       "      <td>Dooley, Mr. Patrick</td>\n",
       "      <td>male</td>\n",
       "      <td>32.0</td>\n",
       "      <td>0</td>\n",
       "      <td>0</td>\n",
       "      <td>370376</td>\n",
       "      <td>7.7500</td>\n",
       "      <td>NaN</td>\n",
       "      <td>Q</td>\n",
       "    </tr>\n",
       "  </tbody>\n",
       "</table>\n",
       "<p>891 rows × 12 columns</p>\n",
       "</div>"
      ],
      "text/plain": [
       "     PassengerId  Survived  Pclass  \\\n",
       "0              1         0       3   \n",
       "1              2         1       1   \n",
       "2              3         1       3   \n",
       "3              4         1       1   \n",
       "4              5         0       3   \n",
       "..           ...       ...     ...   \n",
       "886          887         0       2   \n",
       "887          888         1       1   \n",
       "888          889         0       3   \n",
       "889          890         1       1   \n",
       "890          891         0       3   \n",
       "\n",
       "                                                  Name     Sex   Age  SibSp  \\\n",
       "0                              Braund, Mr. Owen Harris    male  22.0      1   \n",
       "1    Cumings, Mrs. John Bradley (Florence Briggs Th...  female  38.0      1   \n",
       "2                               Heikkinen, Miss. Laina  female  26.0      0   \n",
       "3         Futrelle, Mrs. Jacques Heath (Lily May Peel)  female  35.0      1   \n",
       "4                             Allen, Mr. William Henry    male  35.0      0   \n",
       "..                                                 ...     ...   ...    ...   \n",
       "886                              Montvila, Rev. Juozas    male  27.0      0   \n",
       "887                       Graham, Miss. Margaret Edith  female  19.0      0   \n",
       "888           Johnston, Miss. Catherine Helen \"Carrie\"  female   NaN      1   \n",
       "889                              Behr, Mr. Karl Howell    male  26.0      0   \n",
       "890                                Dooley, Mr. Patrick    male  32.0      0   \n",
       "\n",
       "     Parch            Ticket     Fare Cabin Embarked  \n",
       "0        0         A/5 21171   7.2500   NaN        S  \n",
       "1        0          PC 17599  71.2833   C85        C  \n",
       "2        0  STON/O2. 3101282   7.9250   NaN        S  \n",
       "3        0            113803  53.1000  C123        S  \n",
       "4        0            373450   8.0500   NaN        S  \n",
       "..     ...               ...      ...   ...      ...  \n",
       "886      0            211536  13.0000   NaN        S  \n",
       "887      0            112053  30.0000   B42        S  \n",
       "888      2        W./C. 6607  23.4500   NaN        S  \n",
       "889      0            111369  30.0000  C148        C  \n",
       "890      0            370376   7.7500   NaN        Q  \n",
       "\n",
       "[891 rows x 12 columns]"
      ]
     },
     "execution_count": 2,
     "metadata": {},
     "output_type": "execute_result"
    }
   ],
   "source": [
    "# import csv\n",
    "\n",
    "df = pd.read_csv(\"dataset/train.csv\")\n",
    "df"
   ]
  },
  {
   "cell_type": "code",
   "execution_count": 3,
   "id": "da0698f9-6d18-4414-8a19-d71df8cbcb07",
   "metadata": {},
   "outputs": [
    {
     "data": {
      "text/plain": [
       "PassengerId    891\n",
       "Survived         2\n",
       "Pclass           3\n",
       "Name           891\n",
       "Sex              2\n",
       "Age             88\n",
       "SibSp            7\n",
       "Parch            7\n",
       "Ticket         681\n",
       "Fare           248\n",
       "Cabin          147\n",
       "Embarked         3\n",
       "dtype: int64"
      ]
     },
     "execution_count": 3,
     "metadata": {},
     "output_type": "execute_result"
    }
   ],
   "source": [
    "# check the number of unique values in each column\n",
    "\n",
    "df.nunique()"
   ]
  },
  {
   "cell_type": "code",
   "execution_count": 4,
   "id": "e94eb78f-0e08-49cf-a1a0-e755d4bd9d17",
   "metadata": {},
   "outputs": [],
   "source": [
    "# note that we will not need several columns that have completely unique values in most rows\n",
    "# therefore, we will drop these columns\n",
    "\n",
    "df.drop(columns=['PassengerId', 'Name', 'Ticket', 'Cabin'], inplace=True)"
   ]
  },
  {
   "cell_type": "code",
   "execution_count": 5,
   "id": "0b1ed325-1c27-468a-8c97-4d606046dce3",
   "metadata": {},
   "outputs": [
    {
     "data": {
      "text/html": [
       "<div>\n",
       "<style scoped>\n",
       "    .dataframe tbody tr th:only-of-type {\n",
       "        vertical-align: middle;\n",
       "    }\n",
       "\n",
       "    .dataframe tbody tr th {\n",
       "        vertical-align: top;\n",
       "    }\n",
       "\n",
       "    .dataframe thead th {\n",
       "        text-align: right;\n",
       "    }\n",
       "</style>\n",
       "<table border=\"1\" class=\"dataframe\">\n",
       "  <thead>\n",
       "    <tr style=\"text-align: right;\">\n",
       "      <th></th>\n",
       "      <th>Survived</th>\n",
       "      <th>Pclass</th>\n",
       "      <th>Sex</th>\n",
       "      <th>Age</th>\n",
       "      <th>SibSp</th>\n",
       "      <th>Parch</th>\n",
       "      <th>Fare</th>\n",
       "      <th>Embarked</th>\n",
       "    </tr>\n",
       "  </thead>\n",
       "  <tbody>\n",
       "    <tr>\n",
       "      <th>0</th>\n",
       "      <td>0</td>\n",
       "      <td>3</td>\n",
       "      <td>male</td>\n",
       "      <td>22.0</td>\n",
       "      <td>1</td>\n",
       "      <td>0</td>\n",
       "      <td>7.2500</td>\n",
       "      <td>S</td>\n",
       "    </tr>\n",
       "    <tr>\n",
       "      <th>1</th>\n",
       "      <td>1</td>\n",
       "      <td>1</td>\n",
       "      <td>female</td>\n",
       "      <td>38.0</td>\n",
       "      <td>1</td>\n",
       "      <td>0</td>\n",
       "      <td>71.2833</td>\n",
       "      <td>C</td>\n",
       "    </tr>\n",
       "    <tr>\n",
       "      <th>2</th>\n",
       "      <td>1</td>\n",
       "      <td>3</td>\n",
       "      <td>female</td>\n",
       "      <td>26.0</td>\n",
       "      <td>0</td>\n",
       "      <td>0</td>\n",
       "      <td>7.9250</td>\n",
       "      <td>S</td>\n",
       "    </tr>\n",
       "    <tr>\n",
       "      <th>3</th>\n",
       "      <td>1</td>\n",
       "      <td>1</td>\n",
       "      <td>female</td>\n",
       "      <td>35.0</td>\n",
       "      <td>1</td>\n",
       "      <td>0</td>\n",
       "      <td>53.1000</td>\n",
       "      <td>S</td>\n",
       "    </tr>\n",
       "    <tr>\n",
       "      <th>4</th>\n",
       "      <td>0</td>\n",
       "      <td>3</td>\n",
       "      <td>male</td>\n",
       "      <td>35.0</td>\n",
       "      <td>0</td>\n",
       "      <td>0</td>\n",
       "      <td>8.0500</td>\n",
       "      <td>S</td>\n",
       "    </tr>\n",
       "  </tbody>\n",
       "</table>\n",
       "</div>"
      ],
      "text/plain": [
       "   Survived  Pclass     Sex   Age  SibSp  Parch     Fare Embarked\n",
       "0         0       3    male  22.0      1      0   7.2500        S\n",
       "1         1       1  female  38.0      1      0  71.2833        C\n",
       "2         1       3  female  26.0      0      0   7.9250        S\n",
       "3         1       1  female  35.0      1      0  53.1000        S\n",
       "4         0       3    male  35.0      0      0   8.0500        S"
      ]
     },
     "execution_count": 5,
     "metadata": {},
     "output_type": "execute_result"
    }
   ],
   "source": [
    "df.head()"
   ]
  },
  {
   "cell_type": "code",
   "execution_count": 6,
   "id": "7ad421b6-1325-4cfb-93a1-57133cf7f8bc",
   "metadata": {},
   "outputs": [
    {
     "data": {
      "text/plain": [
       "Survived      0\n",
       "Pclass        0\n",
       "Sex           0\n",
       "Age         177\n",
       "SibSp         0\n",
       "Parch         0\n",
       "Fare          0\n",
       "Embarked      2\n",
       "dtype: int64"
      ]
     },
     "execution_count": 6,
     "metadata": {},
     "output_type": "execute_result"
    }
   ],
   "source": [
    "# we will now check for any null values\n",
    "\n",
    "df.isnull().sum()"
   ]
  },
  {
   "cell_type": "code",
   "execution_count": 7,
   "id": "2745bab6-e674-48b3-bcc2-5e65b6d8f5c7",
   "metadata": {},
   "outputs": [
    {
     "data": {
      "text/plain": [
       "Text(0.5, 1.0, 'Age Distribution of Titanic Passengers')"
      ]
     },
     "execution_count": 7,
     "metadata": {},
     "output_type": "execute_result"
    },
    {
     "data": {
      "image/png": "[encoded data removed]",
      "text/plain": [
       "<Figure size 720x216 with 1 Axes>"
      ]
     },
     "metadata": {},
     "output_type": "display_data"
    }
   ],
   "source": [
    "# notice that the column 'Age' has a lot of null values. but it's a waste of data if we drop these rows since it makes up almost 25% of the data.\n",
    "# we will therefore fill the column with either median or mean\n",
    "# to know which one is best, we will first visualize the data to see if there are many outliers in this data\n",
    "\n",
    "boxplot = df[\"Age\"].plot(kind=\"box\", \n",
    "                         vert=False,\n",
    "                        figsize=(10,3))\n",
    "boxplot\n",
    "boxplot.set_title(\"Age Distribution of Titanic Passengers\")"
   ]
  },
  {
   "cell_type": "markdown",
   "id": "410afd43-3590-42d8-993e-89e086868855",
   "metadata": {},
   "source": [
    "- Note that there are several outliers in the high endmemmber values"
   ]
  },
  {
   "cell_type": "code",
   "execution_count": 8,
   "id": "1d84a747-e438-4ee3-82ee-66cdd9e95d5c",
   "metadata": {},
   "outputs": [
    {
     "name": "stdout",
     "output_type": "stream",
     "text": [
      "Mean: 29.69911764705882\n",
      "Median: 28.0\n"
     ]
    }
   ],
   "source": [
    "# we will now compare values of the median and mean\n",
    "\n",
    "print(\"Mean:\", df[\"Age\"].mean())\n",
    "print(\"Median:\", df[\"Age\"].median())"
   ]
  },
  {
   "cell_type": "code",
   "execution_count": 9,
   "id": "77992031-cc93-45b0-9e8d-3e7a2dda6ba5",
   "metadata": {},
   "outputs": [
    {
     "data": {
      "text/plain": [
       "Survived    0\n",
       "Pclass      0\n",
       "Sex         0\n",
       "Age         0\n",
       "SibSp       0\n",
       "Parch       0\n",
       "Fare        0\n",
       "Embarked    2\n",
       "dtype: int64"
      ]
     },
     "execution_count": 9,
     "metadata": {},
     "output_type": "execute_result"
    }
   ],
   "source": [
    "# the mean and median do not have too much difference\n",
    "# because of the outliers, we will use median to fill the null values in 'Age'\n",
    "\n",
    "df['Age'] = df['Age'].fillna(df['Age'].median())\n",
    "df.isnull().sum()"
   ]
  },
  {
   "cell_type": "code",
   "execution_count": 10,
   "id": "ecbb5a22-24a4-46d8-ad7b-cc512989d6ba",
   "metadata": {},
   "outputs": [
    {
     "data": {
      "text/plain": [
       "Survived    0\n",
       "Pclass      0\n",
       "Sex         0\n",
       "Age         0\n",
       "SibSp       0\n",
       "Parch       0\n",
       "Fare        0\n",
       "Embarked    0\n",
       "dtype: int64"
      ]
     },
     "execution_count": 10,
     "metadata": {},
     "output_type": "execute_result"
    }
   ],
   "source": [
    "# we will now drop the null \"Embarked\" row\n",
    "\n",
    "df.dropna(subset=['Embarked'], inplace=True)\n",
    "df.isnull().sum()"
   ]
  },
  {
   "cell_type": "code",
   "execution_count": 11,
   "id": "6fd1ae5e-6366-4f06-8d3b-069576f2b0dc",
   "metadata": {},
   "outputs": [
    {
     "data": {
      "text/plain": [
       "Index(['Survived', 'Pclass', 'Sex', 'Age', 'SibSp', 'Parch', 'Fare',\n",
       "       'Embarked'],\n",
       "      dtype='object')"
      ]
     },
     "execution_count": 11,
     "metadata": {},
     "output_type": "execute_result"
    }
   ],
   "source": [
    "df.columns"
   ]
  },
  {
   "cell_type": "code",
   "execution_count": 12,
   "id": "b616e64d-7c4e-4f80-9fb0-6b6e6294879e",
   "metadata": {},
   "outputs": [
    {
     "data": {
      "text/plain": [
       "0    549\n",
       "1    340\n",
       "Name: Survived, dtype: int64"
      ]
     },
     "execution_count": 12,
     "metadata": {},
     "output_type": "execute_result"
    }
   ],
   "source": [
    "df['Survived'].value_counts()"
   ]
  },
  {
   "cell_type": "code",
   "execution_count": 13,
   "id": "04b8cf31-4006-4f73-b946-834b3f77e585",
   "metadata": {},
   "outputs": [
    {
     "name": "stdout",
     "output_type": "stream",
     "text": [
      "Survived\n",
      "\n",
      "0    549\n",
      "1    340\n",
      "Name: Survived, dtype: int64\n",
      "Pclass\n",
      "\n",
      "3    491\n",
      "1    214\n",
      "2    184\n",
      "Name: Pclass, dtype: int64\n",
      "Sex\n",
      "\n",
      "male      577\n",
      "female    312\n",
      "Name: Sex, dtype: int64\n",
      "Age\n",
      "\n",
      "28.00    202\n",
      "24.00     30\n",
      "22.00     27\n",
      "18.00     26\n",
      "19.00     25\n",
      "        ... \n",
      "36.50      1\n",
      "55.50      1\n",
      "0.92       1\n",
      "23.50      1\n",
      "74.00      1\n",
      "Name: Age, Length: 88, dtype: int64\n",
      "SibSp\n",
      "\n",
      "0    606\n",
      "1    209\n",
      "2     28\n",
      "4     18\n",
      "3     16\n",
      "8      7\n",
      "5      5\n",
      "Name: SibSp, dtype: int64\n",
      "Parch\n",
      "\n",
      "0    676\n",
      "1    118\n",
      "2     80\n",
      "5      5\n",
      "3      5\n",
      "4      4\n",
      "6      1\n",
      "Name: Parch, dtype: int64\n",
      "Fare\n",
      "\n",
      "8.0500     43\n",
      "13.0000    42\n",
      "7.8958     38\n",
      "7.7500     34\n",
      "26.0000    31\n",
      "           ..\n",
      "35.0000     1\n",
      "28.5000     1\n",
      "6.2375      1\n",
      "14.0000     1\n",
      "10.5167     1\n",
      "Name: Fare, Length: 247, dtype: int64\n",
      "Embarked\n",
      "\n",
      "S    644\n",
      "C    168\n",
      "Q     77\n",
      "Name: Embarked, dtype: int64\n"
     ]
    }
   ],
   "source": [
    "# check unique values in each column\n",
    "\n",
    "col_list = ['Survived', 'Pclass', 'Sex', 'Age', 'SibSp', 'Parch', 'Fare',\n",
    "       'Embarked']\n",
    "for col in col_list:\n",
    "    print(col)\n",
    "    print()\n",
    "    print(df[col].value_counts())"
   ]
  },
  {
   "cell_type": "markdown",
   "id": "af69ff49-1d85-4330-87f1-85c6fddb7dcb",
   "metadata": {},
   "source": [
    "# IV. Data Preprocessing"
   ]
  },
  {
   "cell_type": "code",
   "execution_count": 14,
   "id": "89061e4f-9946-4ddc-9d52-eddcee28d6b1",
   "metadata": {},
   "outputs": [
    {
     "name": "stdout",
     "output_type": "stream",
     "text": [
      "<class 'pandas.core.frame.DataFrame'>\n",
      "Int64Index: 889 entries, 0 to 890\n",
      "Data columns (total 8 columns):\n",
      " #   Column    Non-Null Count  Dtype  \n",
      "---  ------    --------------  -----  \n",
      " 0   Survived  889 non-null    int64  \n",
      " 1   Pclass    889 non-null    int64  \n",
      " 2   Sex       889 non-null    object \n",
      " 3   Age       889 non-null    float64\n",
      " 4   SibSp     889 non-null    int64  \n",
      " 5   Parch     889 non-null    int64  \n",
      " 6   Fare      889 non-null    float64\n",
      " 7   Embarked  889 non-null    object \n",
      "dtypes: float64(2), int64(4), object(2)\n",
      "memory usage: 62.5+ KB\n"
     ]
    }
   ],
   "source": [
    "df.info()"
   ]
  },
  {
   "cell_type": "code",
   "execution_count": 15,
   "id": "e3dfb194-4676-4f7d-8234-b10575a77b89",
   "metadata": {},
   "outputs": [
    {
     "name": "stdout",
     "output_type": "stream",
     "text": [
      "Sex ['female' 'male']\n",
      "Embarked ['C' 'Q' 'S']\n"
     ]
    }
   ],
   "source": [
    "# we will now start preparing the data for machine learning model development\n",
    "# we will first encode the data that is non-numerical\n",
    "\n",
    "# make a list of columns to be encoded from string to integer\n",
    "encoded_cols = ['Sex', 'Embarked']\n",
    "\n",
    "# run the encoder\n",
    "encoder = LabelEncoder()\n",
    "\n",
    "for col in encoded_cols:\n",
    "    df[col] = encoder.fit_transform(df[col])\n",
    "    print(col, encoder.classes_)"
   ]
  },
  {
   "cell_type": "code",
   "execution_count": 16,
   "id": "0e074051-be82-4229-98b7-728606b4c5d3",
   "metadata": {},
   "outputs": [
    {
     "data": {
      "text/plain": [
       "Index(['Survived', 'Pclass', 'Sex', 'Age', 'SibSp', 'Parch', 'Fare',\n",
       "       'Embarked'],\n",
       "      dtype='object')"
      ]
     },
     "execution_count": 16,
     "metadata": {},
     "output_type": "execute_result"
    }
   ],
   "source": [
    "df.columns"
   ]
  },
  {
   "cell_type": "code",
   "execution_count": 17,
   "id": "0cb6edf5-693c-4902-ac40-d7e5d5655384",
   "metadata": {},
   "outputs": [
    {
     "name": "stdout",
     "output_type": "stream",
     "text": [
      "(889, 7) (889,)\n"
     ]
    }
   ],
   "source": [
    "# separate features and target\n",
    "\n",
    "features = df[['Pclass', 'Sex', 'Age', 'SibSp', 'Parch', 'Fare',\n",
    "       'Embarked']]\n",
    "target = df['Survived']\n",
    "\n",
    "# check the shape to ensure it's correct\n",
    "\n",
    "print(features.shape, target.shape)"
   ]
  },
  {
   "cell_type": "code",
   "execution_count": 18,
   "id": "a5ca66e7-7b12-4309-893a-7664ffcd7381",
   "metadata": {},
   "outputs": [
    {
     "name": "stdout",
     "output_type": "stream",
     "text": [
      "(444, 7) (445, 7)\n"
     ]
    }
   ],
   "source": [
    "# split training data and test data\n",
    "# we use 50:50 division between training and testing data\n",
    "# when using less than these ratio of data, all algorithms tend to overfit to the training data\n",
    "\n",
    "x_train, x_test, y_train, y_test = train_test_split(features, target, random_state=0, test_size=0.5)\n",
    "\n",
    "print(x_train.shape, x_test.shape)"
   ]
  },
  {
   "cell_type": "code",
   "execution_count": 19,
   "id": "097c3869-d09e-4519-94cf-d144f9887605",
   "metadata": {},
   "outputs": [],
   "source": [
    "# we will also later need to visualize the confusion matrix\n",
    "# we will keep the function over here to be used in each model later\n",
    "\n",
    "def visualizeCM(cm):    \n",
    "    nolabels = len(cm)\n",
    "    fig, ax = plt.subplots(figsize=(nolabels, nolabels))\n",
    "    ax.imshow(cm)\n",
    "    ax.grid(False)\n",
    "    ax.set_xlabel('Predicted outputs', color='black')\n",
    "    ax.set_ylabel('Actual outputs', color='black')\n",
    "    ax.xaxis.set(ticks=range(nolabels))\n",
    "    ax.yaxis.set(ticks=range(nolabels))\n",
    "    ax.set_ylim(nolabels-0.5, -0.5)\n",
    "    for i in range(nolabels):\n",
    "        for j in range(nolabels):\n",
    "            ax.text(j, i, cm[i, j], ha='center', va='center', color='black')\n",
    "    plt.show()"
   ]
  },
  {
   "cell_type": "markdown",
   "id": "4281fedd-1449-454d-ade9-4f7a62c6e439",
   "metadata": {},
   "source": [
    "# V. Model Definition & Training\n",
    "- For this dataset, we will use Naive Bayes algorithm to build our model\n",
    "- The algorithm was chosen because it does not produce overfitted model compared to other algorithms (see Appendix to see how other algorithms perform)\n",
    "- With this algorithm, it is easy and fast to predict the class of the test data set. It also performs well in multi-class prediction. When assumption of independence holds, a Naive Bayes classifier performs better compare to other models like logistic regression and you need less training data. (https://towardsdatascience.com/all-about-naive-bayes-8e13cef044cf#:~:text=Advantages,you%20need%20less%20training%20data.)\n",
    "- Due to its simplicity yet better accuracy compared to the more complex algorithms (see Appendix), this algorithm was used for this project"
   ]
  },
  {
   "cell_type": "code",
   "execution_count": 20,
   "id": "1765c8ae-b11e-482c-9516-de78cc6068a4",
   "metadata": {},
   "outputs": [
    {
     "name": "stdout",
     "output_type": "stream",
     "text": [
      "GaussianNB()\n"
     ]
    }
   ],
   "source": [
    "# create and train model\n",
    "model_nb = GaussianNB().fit(x_train, y_train)\n",
    "print(model_nb)"
   ]
  },
  {
   "cell_type": "markdown",
   "id": "3502cda7-dea1-42d6-9d78-35cab662f056",
   "metadata": {},
   "source": [
    "# VI. Model Evaluation"
   ]
  },
  {
   "cell_type": "code",
   "execution_count": 21,
   "id": "60b5456d-af00-4f25-9ba3-c36a025d6a16",
   "metadata": {},
   "outputs": [
    {
     "name": "stdout",
     "output_type": "stream",
     "text": [
      "              precision    recall  f1-score   support\n",
      "\n",
      "           0       0.84      0.81      0.82       275\n",
      "           1       0.71      0.75      0.73       170\n",
      "\n",
      "    accuracy                           0.79       445\n",
      "   macro avg       0.77      0.78      0.78       445\n",
      "weighted avg       0.79      0.79      0.79       445\n",
      "\n",
      "[[222  53]\n",
      " [ 42 128]]\n"
     ]
    },
    {
     "data": {
      "image/png": "[encoded data removed]",
      "text/plain": [
       "<Figure size 144x144 with 1 Axes>"
      ]
     },
     "metadata": {},
     "output_type": "display_data"
    }
   ],
   "source": [
    "# evaluate model\n",
    "y_pred = model_nb.predict(x_test)\n",
    "\n",
    "# check the result report and the visualization matrix\n",
    "print(classification_report(y_test, y_pred))\n",
    "print(confusion_matrix(y_test, y_pred))\n",
    "visualizeCM(confusion_matrix(y_test, y_pred))"
   ]
  },
  {
   "cell_type": "markdown",
   "id": "57a26ded-1abd-4112-995c-a8e63932b50c",
   "metadata": {},
   "source": [
    "### Using training dataset (to check any possibility of overfitting)\n",
    "\n",
    "- To ensure that the model is not overfitted, we will check with the train dataset as well.\n",
    "- If the accuracy between using the training dataset vs. testing dataset is not very contrasting, the model is assumed to be acceptable."
   ]
  },
  {
   "cell_type": "code",
   "execution_count": 22,
   "id": "3a484048-441f-4ef1-b461-0d4ddc1421fd",
   "metadata": {},
   "outputs": [
    {
     "name": "stdout",
     "output_type": "stream",
     "text": [
      "GaussianNB()\n",
      "              precision    recall  f1-score   support\n",
      "\n",
      "           0       0.82      0.87      0.85       274\n",
      "           1       0.77      0.70      0.73       170\n",
      "\n",
      "    accuracy                           0.81       444\n",
      "   macro avg       0.80      0.79      0.79       444\n",
      "weighted avg       0.80      0.81      0.80       444\n",
      "\n",
      "[[239  35]\n",
      " [ 51 119]]\n"
     ]
    },
    {
     "data": {
      "image/png": "[encoded data removed]",
      "text/plain": [
       "<Figure size 144x144 with 1 Axes>"
      ]
     },
     "metadata": {},
     "output_type": "display_data"
    }
   ],
   "source": [
    "# create and train model\n",
    "model_nb_train = GaussianNB().fit(x_train, y_train)\n",
    "print(model_nb_train)\n",
    "\n",
    "# evaluate model\n",
    "y_pred = model_nb_train.predict(x_train)\n",
    "\n",
    "# check the result report and the visualization matrix\n",
    "print(classification_report(y_train, y_pred))\n",
    "print(confusion_matrix(y_train, y_pred))\n",
    "visualizeCM(confusion_matrix(y_train, y_pred))"
   ]
  },
  {
   "cell_type": "markdown",
   "id": "73ec41fa-44fa-4411-9d56-776accfc6f0c",
   "metadata": {},
   "source": [
    "- Note that the accuracy is rather similar between training model and testing model, therefore the model did not overfit and is acceptable."
   ]
  },
  {
   "cell_type": "markdown",
   "id": "960affed-770d-4641-a2ae-8eb54128ebc7",
   "metadata": {},
   "source": [
    "# VII. Conclusion\n",
    "\n",
    "- Naive Bayes model, albeit its simplicity, is proven to give one of the highest accuracy for this particular dataset and did not overfit.\n",
    "- Trial and error process showed that the percentage of training vs. testing dataset also affects the accuracy of both testing and testing models. Therefore, here we use 50% for each training and testing data.\n",
    "- Naive Bayes also gives faster results compared to other algorithms.\n",
    "\n",
    "---"
   ]
  },
  {
   "cell_type": "markdown",
   "id": "a8526a37-3704-4eae-b01f-e807f01ac85b",
   "metadata": {},
   "source": [
    "# _Appendix_"
   ]
  },
  {
   "cell_type": "markdown",
   "id": "607ebc50-d82a-4b4b-a325-1a9f571c0ddf",
   "metadata": {},
   "source": [
    "### Random Forest Classifier"
   ]
  },
  {
   "cell_type": "code",
   "execution_count": 23,
   "id": "a5e6fb86-6868-4890-b8b1-dce9ea11d551",
   "metadata": {},
   "outputs": [
    {
     "name": "stdout",
     "output_type": "stream",
     "text": [
      "RandomForestClassifier()\n",
      "              precision    recall  f1-score   support\n",
      "\n",
      "           0       0.82      0.85      0.84       275\n",
      "           1       0.75      0.69      0.72       170\n",
      "\n",
      "    accuracy                           0.79       445\n",
      "   macro avg       0.78      0.77      0.78       445\n",
      "weighted avg       0.79      0.79      0.79       445\n",
      "\n",
      "[[235  40]\n",
      " [ 52 118]]\n"
     ]
    },
    {
     "data": {
      "image/png": "[encoded data removed]",
      "text/plain": [
       "<Figure size 144x144 with 1 Axes>"
      ]
     },
     "metadata": {},
     "output_type": "display_data"
    }
   ],
   "source": [
    "# build and train model\n",
    "model_rf = RandomForestClassifier().fit(x_train, y_train)\n",
    "print(model_rf)\n",
    "\n",
    "# evaluate model\n",
    "y_pred = model_rf.predict(x_test)\n",
    "\n",
    "# check the result report and the visualization matrix\n",
    "print(classification_report(y_test, y_pred))\n",
    "print(confusion_matrix(y_test, y_pred))\n",
    "visualizeCM(confusion_matrix(y_test, y_pred))"
   ]
  },
  {
   "cell_type": "code",
   "execution_count": 24,
   "id": "10e34094-9071-48b5-8194-2330fb19a918",
   "metadata": {},
   "outputs": [
    {
     "data": {
      "text/html": [
       "<div>\n",
       "<style scoped>\n",
       "    .dataframe tbody tr th:only-of-type {\n",
       "        vertical-align: middle;\n",
       "    }\n",
       "\n",
       "    .dataframe tbody tr th {\n",
       "        vertical-align: top;\n",
       "    }\n",
       "\n",
       "    .dataframe thead th {\n",
       "        text-align: right;\n",
       "    }\n",
       "</style>\n",
       "<table border=\"1\" class=\"dataframe\">\n",
       "  <thead>\n",
       "    <tr style=\"text-align: right;\">\n",
       "      <th></th>\n",
       "      <th>value of importance</th>\n",
       "    </tr>\n",
       "    <tr>\n",
       "      <th>feature name</th>\n",
       "      <th></th>\n",
       "    </tr>\n",
       "  </thead>\n",
       "  <tbody>\n",
       "    <tr>\n",
       "      <th>Sex</th>\n",
       "      <td>0.259689</td>\n",
       "    </tr>\n",
       "    <tr>\n",
       "      <th>Age</th>\n",
       "      <td>0.253716</td>\n",
       "    </tr>\n",
       "    <tr>\n",
       "      <th>Fare</th>\n",
       "      <td>0.244501</td>\n",
       "    </tr>\n",
       "    <tr>\n",
       "      <th>Pclass</th>\n",
       "      <td>0.084103</td>\n",
       "    </tr>\n",
       "    <tr>\n",
       "      <th>SibSp</th>\n",
       "      <td>0.062104</td>\n",
       "    </tr>\n",
       "    <tr>\n",
       "      <th>Parch</th>\n",
       "      <td>0.052958</td>\n",
       "    </tr>\n",
       "    <tr>\n",
       "      <th>Embarked</th>\n",
       "      <td>0.042929</td>\n",
       "    </tr>\n",
       "  </tbody>\n",
       "</table>\n",
       "</div>"
      ],
      "text/plain": [
       "              value of importance\n",
       "feature name                     \n",
       "Sex                      0.259689\n",
       "Age                      0.253716\n",
       "Fare                     0.244501\n",
       "Pclass                   0.084103\n",
       "SibSp                    0.062104\n",
       "Parch                    0.052958\n",
       "Embarked                 0.042929"
      ]
     },
     "execution_count": 24,
     "metadata": {},
     "output_type": "execute_result"
    }
   ],
   "source": [
    "# create dataframe of importance of each feature\n",
    "\n",
    "df_imp_rf = pd.DataFrame({\"feature name\": features.columns, \"value of importance\": model_rf.feature_importances_}).sort_values(by=\"value of importance\", ascending=False)\n",
    "df_imp_rf.set_index('feature name', inplace=True)\n",
    "df_imp_rf"
   ]
  },
  {
   "cell_type": "code",
   "execution_count": 25,
   "id": "ba117105-9a22-4d42-9678-0612f9b0d62d",
   "metadata": {},
   "outputs": [
    {
     "name": "stdout",
     "output_type": "stream",
     "text": [
      "RandomForestClassifier()\n",
      "              precision    recall  f1-score   support\n",
      "\n",
      "           0       0.98      1.00      0.99       274\n",
      "           1       1.00      0.96      0.98       170\n",
      "\n",
      "    accuracy                           0.99       444\n",
      "   macro avg       0.99      0.98      0.99       444\n",
      "weighted avg       0.99      0.99      0.99       444\n",
      "\n",
      "[[274   0]\n",
      " [  6 164]]\n"
     ]
    },
    {
     "data": {
      "image/png": "[encoded data removed]",
      "text/plain": [
       "<Figure size 144x144 with 1 Axes>"
      ]
     },
     "metadata": {},
     "output_type": "display_data"
    }
   ],
   "source": [
    "# run the model for training dataset to check overfitting possibility\n",
    "\n",
    "# create and train model\n",
    "model_rf_train = RandomForestClassifier().fit(x_train, y_train)\n",
    "print(model_rf_train)\n",
    "\n",
    "# evaluate model using training dataset\n",
    "y_pred = model_rf_train.predict(x_train)\n",
    "\n",
    "# check the result report and the visualization matrix\n",
    "print(classification_report(y_train, y_pred))\n",
    "print(confusion_matrix(y_train, y_pred))\n",
    "visualizeCM(confusion_matrix(y_train, y_pred))"
   ]
  },
  {
   "cell_type": "markdown",
   "id": "de46d750-4746-440f-a976-418b10a9b45e",
   "metadata": {},
   "source": [
    "- Note the very contrasting difference between accuracy of training model and testing model, indicating overfitting.\n",
    "\n",
    "---"
   ]
  },
  {
   "cell_type": "markdown",
   "id": "96fd2532-5f7b-4ac3-848a-8cace13f906c",
   "metadata": {},
   "source": [
    "### K-Nearest Neighbors"
   ]
  },
  {
   "cell_type": "code",
   "execution_count": 26,
   "id": "e522c7cb-2c22-4000-b736-d069ad6780ce",
   "metadata": {},
   "outputs": [
    {
     "data": {
      "image/png": "[encoded data removed]",
      "text/plain": [
       "<Figure size 432x288 with 1 Axes>"
      ]
     },
     "metadata": {},
     "output_type": "display_data"
    }
   ],
   "source": [
    "# first, we will look at how many 'K' or iteration required until the model is stable\n",
    "\n",
    "def knnTableTrainTest(maxK, x_train, y_train, x_test, y_test):\n",
    "    list_score = []\n",
    "    for n in range(1, maxK):\n",
    "        model_knn = KNeighborsClassifier(n_neighbors = n).fit(x_train, y_train)\n",
    "        score = model_knn.score(x_test, y_test)\n",
    "        list_score.append(score)\n",
    "\n",
    "    plt.plot(range(1,maxK), list_score, marker=\"o\")\n",
    "    plt.xlabel(\"K neighbor numbers\")\n",
    "    plt.ylabel(\"Accuracy Score\")\n",
    "    plt.title(\"KNN score vs K table\")\n",
    "    \n",
    "knnTableTrainTest(100, x_train, y_train, x_test, y_test)"
   ]
  },
  {
   "cell_type": "markdown",
   "id": "8675debb-cc31-4372-9ee3-69a77eb62107",
   "metadata": {},
   "source": [
    "- Note that in K-Nearest Neighbor iteration, there isn't a number of iteration after which the model stabilizes. Therefore this algorithm is not used.\n",
    "\n",
    "---"
   ]
  },
  {
   "cell_type": "markdown",
   "id": "5e9a016c-5ffb-4039-bdf3-c4ecf172a3e4",
   "metadata": {},
   "source": [
    "### Support Vector Machine"
   ]
  },
  {
   "cell_type": "code",
   "execution_count": 27,
   "id": "4905ec05-eca1-465d-8175-ace169920abf",
   "metadata": {},
   "outputs": [
    {
     "name": "stdout",
     "output_type": "stream",
     "text": [
      "SVC(kernel='linear')\n",
      "              precision    recall  f1-score   support\n",
      "\n",
      "           0       0.81      0.85      0.83       275\n",
      "           1       0.73      0.68      0.71       170\n",
      "\n",
      "    accuracy                           0.78       445\n",
      "   macro avg       0.77      0.76      0.77       445\n",
      "weighted avg       0.78      0.78      0.78       445\n",
      "\n",
      "[[233  42]\n",
      " [ 54 116]]\n"
     ]
    },
    {
     "data": {
      "image/png": "[encoded data removed]",
      "text/plain": [
       "<Figure size 144x144 with 1 Axes>"
      ]
     },
     "metadata": {},
     "output_type": "display_data"
    }
   ],
   "source": [
    "# create and train model\n",
    "model_svc = SVC(kernel=\"linear\").fit(x_train, y_train)\n",
    "print(model_svc)\n",
    "\n",
    "# evaluate model\n",
    "y_pred = model_svc.predict(x_test)\n",
    "\n",
    "# check the result report and the visualization matrix\n",
    "print(classification_report(y_test, y_pred))\n",
    "print(confusion_matrix(y_test, y_pred))\n",
    "visualizeCM(confusion_matrix(y_test, y_pred))"
   ]
  },
  {
   "cell_type": "code",
   "execution_count": 28,
   "id": "961fb241-206d-42da-855e-4eaf53cca73c",
   "metadata": {},
   "outputs": [
    {
     "name": "stdout",
     "output_type": "stream",
     "text": [
      "SVC(kernel='linear')\n",
      "              precision    recall  f1-score   support\n",
      "\n",
      "           0       0.81      0.86      0.83       274\n",
      "           1       0.75      0.68      0.71       170\n",
      "\n",
      "    accuracy                           0.79       444\n",
      "   macro avg       0.78      0.77      0.77       444\n",
      "weighted avg       0.79      0.79      0.79       444\n",
      "\n",
      "[[235  39]\n",
      " [ 55 115]]\n"
     ]
    },
    {
     "data": {
      "image/png": "[encoded data removed]",
      "text/plain": [
       "<Figure size 144x144 with 1 Axes>"
      ]
     },
     "metadata": {},
     "output_type": "display_data"
    }
   ],
   "source": [
    "# run the model for training dataset to check overfitting possibility\n",
    "\n",
    "# create and train model\n",
    "model_svc_train = SVC(kernel=\"linear\").fit(x_train, y_train)\n",
    "print(model_svc_train)\n",
    "\n",
    "# evaluate model using training dataset\n",
    "y_pred = model_svc_train.predict(x_train)\n",
    "\n",
    "# check the result report and the visualization matrix\n",
    "print(classification_report(y_train, y_pred))\n",
    "print(confusion_matrix(y_train, y_pred))\n",
    "visualizeCM(confusion_matrix(y_train, y_pred))"
   ]
  },
  {
   "cell_type": "markdown",
   "id": "ffc16654-f8ac-4d19-8dff-6b230acc0839",
   "metadata": {},
   "source": [
    "- Note that the result is almost similar to Naive Bayes method.\n",
    "- However, because Naive Bayes algorithm is much simpler compared to SVC and results in similar accuracy, the SVC model is not chosen.\n",
    "\n",
    "---"
   ]
  },
  {
   "cell_type": "markdown",
   "id": "8c93616d-9058-4445-9964-8f6e3e86af09",
   "metadata": {},
   "source": [
    "### Logistic Regression"
   ]
  },
  {
   "cell_type": "code",
   "execution_count": 29,
   "id": "ac57eaa3-c58d-402a-9cc8-14433a52e99c",
   "metadata": {},
   "outputs": [
    {
     "name": "stderr",
     "output_type": "stream",
     "text": [
      "C:\\Users\\nadani2\\Anaconda3\\lib\\site-packages\\sklearn\\linear_model\\_logistic.py:763: ConvergenceWarning: lbfgs failed to converge (status=1):\n",
      "STOP: TOTAL NO. of ITERATIONS REACHED LIMIT.\n",
      "\n",
      "Increase the number of iterations (max_iter) or scale the data as shown in:\n",
      "    https://scikit-learn.org/stable/modules/preprocessing.html\n",
      "Please also refer to the documentation for alternative solver options:\n",
      "    https://scikit-learn.org/stable/modules/linear_model.html#logistic-regression\n",
      "  n_iter_i = _check_optimize_result(\n"
     ]
    },
    {
     "name": "stdout",
     "output_type": "stream",
     "text": [
      "LogisticRegression()\n",
      "              precision    recall  f1-score   support\n",
      "\n",
      "           0       0.83      0.83      0.83       275\n",
      "           1       0.73      0.72      0.72       170\n",
      "\n",
      "    accuracy                           0.79       445\n",
      "   macro avg       0.78      0.78      0.78       445\n",
      "weighted avg       0.79      0.79      0.79       445\n",
      "\n",
      "[[229  46]\n",
      " [ 48 122]]\n"
     ]
    },
    {
     "data": {
      "image/png": "[encoded data removed]",
      "text/plain": [
       "<Figure size 144x144 with 1 Axes>"
      ]
     },
     "metadata": {},
     "output_type": "display_data"
    }
   ],
   "source": [
    "# create and train model\n",
    "model_lr = LogisticRegression(solver='lbfgs').fit(x_train, y_train)\n",
    "print(model_lr)\n",
    "\n",
    "# evaluate model\n",
    "y_pred = model_lr.predict(x_test)\n",
    "\n",
    "# check the result report and the visualization matrix\n",
    "print(classification_report(y_test, y_pred))\n",
    "print(confusion_matrix(y_test, y_pred))\n",
    "visualizeCM(confusion_matrix(y_test, y_pred))"
   ]
  },
  {
   "cell_type": "code",
   "execution_count": 30,
   "id": "94fa3902-aef2-4c55-b7ed-2119c1780371",
   "metadata": {},
   "outputs": [
    {
     "name": "stderr",
     "output_type": "stream",
     "text": [
      "C:\\Users\\nadani2\\Anaconda3\\lib\\site-packages\\sklearn\\linear_model\\_logistic.py:763: ConvergenceWarning: lbfgs failed to converge (status=1):\n",
      "STOP: TOTAL NO. of ITERATIONS REACHED LIMIT.\n",
      "\n",
      "Increase the number of iterations (max_iter) or scale the data as shown in:\n",
      "    https://scikit-learn.org/stable/modules/preprocessing.html\n",
      "Please also refer to the documentation for alternative solver options:\n",
      "    https://scikit-learn.org/stable/modules/linear_model.html#logistic-regression\n",
      "  n_iter_i = _check_optimize_result(\n"
     ]
    },
    {
     "name": "stdout",
     "output_type": "stream",
     "text": [
      "LogisticRegression()\n",
      "              precision    recall  f1-score   support\n",
      "\n",
      "           0       0.83      0.85      0.84       274\n",
      "           1       0.75      0.72      0.74       170\n",
      "\n",
      "    accuracy                           0.80       444\n",
      "   macro avg       0.79      0.79      0.79       444\n",
      "weighted avg       0.80      0.80      0.80       444\n",
      "\n",
      "[[234  40]\n",
      " [ 47 123]]\n"
     ]
    },
    {
     "data": {
      "image/png": "[encoded data removed]",
      "text/plain": [
       "<Figure size 144x144 with 1 Axes>"
      ]
     },
     "metadata": {},
     "output_type": "display_data"
    }
   ],
   "source": [
    "# run the model for training dataset to check overfitting possibility\n",
    "\n",
    "# create and train model\n",
    "model_lr_train = LogisticRegression(solver='lbfgs').fit(x_train, y_train)\n",
    "print(model_lr_train)\n",
    "\n",
    "# evaluate model using training dataset\n",
    "y_pred = model_lr_train.predict(x_train) # use test data if we separate test vs train data, but in this case the same\n",
    "\n",
    "# check the result report and the visualization matrix\n",
    "print(classification_report(y_train, y_pred))\n",
    "print(confusion_matrix(y_train, y_pred))\n",
    "visualizeCM(confusion_matrix(y_train, y_pred))"
   ]
  },
  {
   "cell_type": "markdown",
   "id": "e793acc7-2849-439c-922c-4255d3cd03d1",
   "metadata": {},
   "source": [
    "- Note that the accuracy is similar to Naive Bayes model, however this one gives a residual error therefore not chosen\n",
    "\n",
    "---"
   ]
  }
 ],
 "metadata": {
  "kernelspec": {
   "display_name": "Python 3 (ipykernel)",
   "language": "python",
   "name": "python3"
  },
  "language_info": {
   "codemirror_mode": {
    "name": "ipython",
    "version": 3
   },
   "file_extension": ".py",
   "mimetype": "text/x-python",
   "name": "python",
   "nbconvert_exporter": "python",
   "pygments_lexer": "ipython3",
   "version": "3.9.7"
  }
 },
 "nbformat": 4,
 "nbformat_minor": 5
}
